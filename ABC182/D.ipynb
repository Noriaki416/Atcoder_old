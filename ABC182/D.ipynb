{
 "cells": [
  {
   "cell_type": "markdown",
   "metadata": {},
   "source": [
    "# D - Wandering"
   ]
  },
  {
   "cell_type": "markdown",
   "metadata": {},
   "source": [
    "# 入力例1\n",
    "N = 3  \n",
    "A = [2 -1 -2]"
   ]
  },
  {
   "cell_type": "code",
   "execution_count": 1,
   "metadata": {},
   "outputs": [
    {
     "name": "stdout",
     "output_type": "stream",
     "text": [
      "3\n",
      "2 -1 -2\n",
      "[0, 2, 1, -1]\n"
     ]
    }
   ],
   "source": [
    "N = int(input())\n",
    "N += 1\n",
    "A = [0] + list(map(int, input().split()))\n",
    "accum_sum = A[:]\n",
    "for i in range(1, N):\n",
    "    accum_sum[i] += accum_sum[i-1]\n",
    "print(accum_sum)"
   ]
  },
  {
   "cell_type": "markdown",
   "metadata": {},
   "source": [
    "# ステップiが終わった後の座標"
   ]
  },
  {
   "cell_type": "code",
   "execution_count": 2,
   "metadata": {},
   "outputs": [
    {
     "name": "stdout",
     "output_type": "stream",
     "text": [
      "1 2\n",
      "2 3\n",
      "3 2\n"
     ]
    }
   ],
   "source": [
    "now = 0\n",
    "for i in range(1, N):\n",
    "    now += accum_sum[i]\n",
    "    print(i, now)"
   ]
  },
  {
   "cell_type": "markdown",
   "metadata": {},
   "source": [
    "# ステップiで移動できる最大の幅  \n",
    "それまでの累積和の中の最大値  \n",
    "(`max(accum_sum)`ではない点に注意。)"
   ]
  },
  {
   "cell_type": "code",
   "execution_count": 3,
   "metadata": {},
   "outputs": [
    {
     "name": "stdout",
     "output_type": "stream",
     "text": [
      "[0, 2, 2, 2]\n"
     ]
    }
   ],
   "source": [
    "accum_max = accum_sum[:]\n",
    "for i in range(1, N):\n",
    "    accum_max[i] =max(accum_max[i], accum_max[i-1])\n",
    "print(accum_max)"
   ]
  },
  {
   "cell_type": "markdown",
   "metadata": {},
   "source": [
    "# 全ステップで到達できる座標の最大値"
   ]
  },
  {
   "cell_type": "code",
   "execution_count": 4,
   "metadata": {},
   "outputs": [
    {
     "name": "stdout",
     "output_type": "stream",
     "text": [
      "5\n"
     ]
    }
   ],
   "source": [
    "ans = 0\n",
    "now = 0\n",
    "for i in range(1, N):\n",
    "    ans = max(ans, now+accum_max[i])\n",
    "    now += accum_sum[i]\n",
    "print(ans)"
   ]
  },
  {
   "cell_type": "code",
   "execution_count": 5,
   "metadata": {},
   "outputs": [
    {
     "name": "stdout",
     "output_type": "stream",
     "text": [
      "3\n",
      "2 -1 -2\n",
      "5\n"
     ]
    }
   ],
   "source": [
    "N = int(input())\n",
    "N += 1\n",
    "A = [0] + list(map(int, input().split()))\n",
    "accum_sum = A[:]\n",
    "for i in range(1, N):\n",
    "    accum_sum[i] += accum_sum[i-1]\n",
    "accum_max = accum_sum[:]\n",
    "for i in range(1, N):\n",
    "    accum_max[i] =max(accum_max[i], accum_max[i-1])\n",
    "ans = 0\n",
    "now = 0\n",
    "for i in range(1, N):\n",
    "    ans = max(ans, now+accum_max[i])\n",
    "    now += accum_sum[i]\n",
    "print(ans)"
   ]
  }
 ],
 "metadata": {
  "kernelspec": {
   "display_name": "Python 3",
   "language": "python",
   "name": "python3"
  },
  "language_info": {
   "codemirror_mode": {
    "name": "ipython",
    "version": 3
   },
   "file_extension": ".py",
   "mimetype": "text/x-python",
   "name": "python",
   "nbconvert_exporter": "python",
   "pygments_lexer": "ipython3",
   "version": "3.6.7"
  }
 },
 "nbformat": 4,
 "nbformat_minor": 2
}
