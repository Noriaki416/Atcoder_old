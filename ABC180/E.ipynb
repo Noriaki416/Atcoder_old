{
 "cells": [
  {
   "cell_type": "markdown",
   "metadata": {},
   "source": [
    "# ビット演算\n",
    "https://note.nkmk.me/python-bit-operation/"
   ]
  },
  {
   "cell_type": "markdown",
   "metadata": {},
   "source": [
    "## ビットシフト"
   ]
  },
  {
   "cell_type": "markdown",
   "metadata": {},
   "source": [
    "`<<`は入力されたあたいの分だけ全てのビットを左に移動させる。  \n",
    "`>>`は同様に右に移動させる。"
   ]
  },
  {
   "cell_type": "code",
   "execution_count": 8,
   "metadata": {},
   "outputs": [
    {
     "name": "stdout",
     "output_type": "stream",
     "text": [
      "18\n",
      "0b10010\n"
     ]
    }
   ],
   "source": [
    "x = 9  # 0b1001\n",
    "\n",
    "print(x << 1)\n",
    "print(bin(x << 1))\n",
    "# 18\n",
    "# 0b10010"
   ]
  },
  {
   "cell_type": "markdown",
   "metadata": {},
   "source": [
    "上の例1が全て左に1箇所だけシフトしている。  \n",
    "下の例では左に2箇所だけシフトしている。"
   ]
  },
  {
   "cell_type": "code",
   "execution_count": 10,
   "metadata": {},
   "outputs": [
    {
     "name": "stdout",
     "output_type": "stream",
     "text": [
      "36\n",
      "0b100100\n"
     ]
    }
   ],
   "source": [
    "print(x << 2)\n",
    "print(bin(x << 2))"
   ]
  },
  {
   "cell_type": "markdown",
   "metadata": {},
   "source": [
    "0の場合は変化なし。"
   ]
  },
  {
   "cell_type": "code",
   "execution_count": 11,
   "metadata": {},
   "outputs": [
    {
     "name": "stdout",
     "output_type": "stream",
     "text": [
      "9\n",
      "0b1001\n"
     ]
    }
   ],
   "source": [
    "print(x << 0)\n",
    "print(bin(x << 0))"
   ]
  },
  {
   "cell_type": "code",
   "execution_count": 12,
   "metadata": {},
   "outputs": [
    {
     "name": "stdout",
     "output_type": "stream",
     "text": [
      "4\n",
      "0b100\n"
     ]
    }
   ],
   "source": [
    "print(x >> 1)\n",
    "print(bin(x >> 1))\n",
    "# 4\n",
    "# 0b100"
   ]
  },
  {
   "cell_type": "markdown",
   "metadata": {},
   "source": [
    "## 論理積 (AND)"
   ]
  },
  {
   "cell_type": "code",
   "execution_count": 16,
   "metadata": {},
   "outputs": [
    {
     "name": "stdout",
     "output_type": "stream",
     "text": [
      "0b1001\n",
      "0b1010\n",
      "8\n",
      "0b1000\n"
     ]
    }
   ],
   "source": [
    "x = 9\n",
    "y = 10\n",
    "print(bin(x))\n",
    "print(bin(y))\n",
    "print(x & y)\n",
    "print(bin(x & y))"
   ]
  },
  {
   "cell_type": "markdown",
   "metadata": {},
   "source": [
    "# E - Traveling Salesman among Aerial Cities"
   ]
  },
  {
   "cell_type": "code",
   "execution_count": null,
   "metadata": {},
   "outputs": [],
   "source": [
    "def solve_tsp(dist):\n",
    "    n = len(dist)\n",
    "    n2 = 1 << n\n",
    "    DP = [[INF for _ in range(n)] for _ in range(n2)]\n",
    "    # DP[S][v]: 訪問済みの集合Sの頂点vからスタートする時の距離の総和\n",
    "    for i in range(n):\n",
    "        if i == 0:\n",
    "            continue\n",
    "        DP[1 << i][i] = dist[0][i]\n",
    "    for i in range(n2):\n",
    "        for j in range(n):\n",
    "            if (~i>>j&1): # iにjが含まれていない場合 (jからスタートするので)\n",
    "                continue\n",
    "            for k in range(n):\n",
    "                # j -> kへの移動\n",
    "                if (i>>k&1): # 既にiに都市kが含まれている場合\n",
    "                    continue\n",
    "                DP[i|1<<k][k] = min(DP[i|1<<k][k], DP[i][j]+dist[j][k])\n",
    "    return DP[n2-1][0]\n",
    "\n",
    "N = int(input())\n",
    "XYZ = []\n",
    "for n in range(N):\n",
    "    XYZ.append(list(map(int, input().split())))\n",
    "dist = [[0 for i in range(N)] for i in range(N)]\n",
    "for i in range(N):\n",
    "    for j in range(N):\n",
    "        a, b, c = XYZ[i]\n",
    "        p, q, r = XYZ[j]\n",
    "        dist[i][j] = abs(p-a) + abs(q-b) + max(0, r-c)\n",
    "INF = 10**9\n",
    "for i in range(N):\n",
    "    dist[i][i] = INF\n",
    "    \n",
    "res = solve_tsp(dist)\n",
    "print(res)"
   ]
  },
  {
   "cell_type": "markdown",
   "metadata": {},
   "source": [
    "https://atcoder.jp/contests/abc180/submissions/17776631"
   ]
  }
 ],
 "metadata": {
  "kernelspec": {
   "display_name": "Python 3",
   "language": "python",
   "name": "python3"
  },
  "language_info": {
   "codemirror_mode": {
    "name": "ipython",
    "version": 3
   },
   "file_extension": ".py",
   "mimetype": "text/x-python",
   "name": "python",
   "nbconvert_exporter": "python",
   "pygments_lexer": "ipython3",
   "version": "3.6.7"
  }
 },
 "nbformat": 4,
 "nbformat_minor": 2
}
