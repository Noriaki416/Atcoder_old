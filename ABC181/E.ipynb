{
 "cells": [
  {
   "cell_type": "markdown",
   "metadata": {},
   "source": [
    "# E - Transformable Teacher"
   ]
  },
  {
   "cell_type": "code",
   "execution_count": null,
   "metadata": {},
   "outputs": [],
   "source": [
    "N, M = map(int, input().split())\n",
    "h = list(map(int, input().split()))\n",
    "w = list(map(int, input().split()))\n",
    "\n",
    "INF = 10**19\n",
    "w.append(INF)\n",
    "w.append(-INF)\n",
    "h.sort()\n",
    "w.sort()\n",
    "\n",
    "now = 0\n",
    "ds = [0 for i in range(N)]\n",
    "for i in range(N):\n",
    "    if i % 2 == 1:\n",
    "        now += abs(h[i]-h[i-1])\n",
    "        #print(i, now, h[i-1], h[i])\n",
    "    ds[i] = now\n",
    "\n",
    "now = 0\n",
    "dt = [0 for i in range(N)]\n",
    "for i in range(N):\n",
    "    ni = N-1-i\n",
    "    if i % 2 == 1:\n",
    "        now += abs(h[ni]-h[ni+1])\n",
    "        #print(i, now, h[ni], h[ni+1])\n",
    "    dt[ni] = now\n",
    "    \n",
    "import bisect\n",
    "ans = 10**19\n",
    "for i in range(N):\n",
    "    #print(i, ds[i], dt[i])\n",
    "    j = bisect.bisect_right(w, h[i])\n",
    "    if i % 2 == 1:\n",
    "        continue\n",
    "    now = ds[i] + dt[i]\n",
    "    #print(h[i], j, w[j], w[j-1], now)\n",
    "    now += min(abs(h[i]-w[j]), h[i]-w[j-1])\n",
    "    ans = min(ans, now)\n",
    "print(ans)"
   ]
  },
  {
   "cell_type": "markdown",
   "metadata": {},
   "source": [
    "https://atcoder.jp/contests/abc181/submissions/17941395"
   ]
  }
 ],
 "metadata": {
  "kernelspec": {
   "display_name": "Python 3",
   "language": "python",
   "name": "python3"
  },
  "language_info": {
   "codemirror_mode": {
    "name": "ipython",
    "version": 3
   },
   "file_extension": ".py",
   "mimetype": "text/x-python",
   "name": "python",
   "nbconvert_exporter": "python",
   "pygments_lexer": "ipython3",
   "version": "3.6.7"
  }
 },
 "nbformat": 4,
 "nbformat_minor": 2
}
