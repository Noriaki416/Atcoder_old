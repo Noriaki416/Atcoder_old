{
 "cells": [
  {
   "cell_type": "markdown",
   "metadata": {},
   "source": [
    "# D - Hach"
   ]
  },
  {
   "cell_type": "code",
   "execution_count": null,
   "metadata": {},
   "outputs": [],
   "source": [
    "S = input()\n",
    "num_odds = 0\n",
    "for s in S:\n",
    "    if int(s) % 2 != 0:\n",
    "        num_odds += 1\n",
    "if num_odds == len(S):\n",
    "    print(\"No\")\n",
    "elif len(S) == 1 and int(S) == 8:\n",
    "    print(\"Yes\")\n",
    "elif len(S) == 2:\n",
    "    if int(S) % 8 == 0:\n",
    "        print(\"Yes\")\n",
    "    else:\n",
    "        S_ = 10 * int(S[1]) + int(S[0])\n",
    "        if S_ % 8 == 0:\n",
    "            print(\"Yes\")\n",
    "        else:\n",
    "            print(\"No\")\n",
    "else:\n",
    "    S_num = {i:0 for i in range(1, 10)}\n",
    "    for s in S:\n",
    "        S_num[int(s)] += 1\n",
    "    eights = []\n",
    "    for i in range(100, 1000):\n",
    "        if i % 4 == 0:\n",
    "            a = i // 4\n",
    "            a = str(a)\n",
    "            if len(a) == 2 and int(a) % 2 == 0:\n",
    "                eights.append(i)\n",
    "            elif len(a) == 3:\n",
    "                a_ = 10*int(a[-2]) + int(a[-1])\n",
    "                if a_ % 2 == 0:\n",
    "                    eights.append(i)\n",
    "    ans = 0\n",
    "    for n in eights:\n",
    "        temp = {i:0 for i in range(0, 10)}\n",
    "        n = str(n)\n",
    "        for s in n:\n",
    "            temp[int(s)] += 1\n",
    "        if temp[0] == 0:\n",
    "            flag = True\n",
    "            for key, value in temp.items():\n",
    "                if key > 0 and value > S_num[key]:\n",
    "                    flag = False\n",
    "                    break\n",
    "            if flag:\n",
    "                ans = 1\n",
    "                break\n",
    "    if ans:\n",
    "        print(\"Yes\")\n",
    "    else:\n",
    "        print(\"No\")"
   ]
  },
  {
   "cell_type": "markdown",
   "metadata": {},
   "source": [
    "https://atcoder.jp/contests/abc181/submissions/17807425"
   ]
  }
 ],
 "metadata": {
  "kernelspec": {
   "display_name": "Python 3",
   "language": "python",
   "name": "python3"
  },
  "language_info": {
   "codemirror_mode": {
    "name": "ipython",
    "version": 3
   },
   "file_extension": ".py",
   "mimetype": "text/x-python",
   "name": "python",
   "nbconvert_exporter": "python",
   "pygments_lexer": "ipython3",
   "version": "3.6.7"
  }
 },
 "nbformat": 4,
 "nbformat_minor": 2
}
