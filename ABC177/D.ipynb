{
 "cells": [
  {
   "cell_type": "markdown",
   "metadata": {},
   "source": [
    "# D - Friends"
   ]
  },
  {
   "cell_type": "markdown",
   "metadata": {},
   "source": [
    "## Union Findの実装\n",
    "https://atcoder.jp/contests/atc001/tasks/unionfind_a"
   ]
  },
  {
   "cell_type": "code",
   "execution_count": 1,
   "metadata": {},
   "outputs": [
    {
     "name": "stdout",
     "output_type": "stream",
     "text": [
      "5 3\n",
      "1 2\n",
      "3 4\n",
      "5 1\n",
      "3\n"
     ]
    }
   ],
   "source": [
    "class Union_Find():\n",
    "    def __init__(self, N):\n",
    "        self.N = N\n",
    "        self.par = [n for n in range(N)]\n",
    "        self.rank = [0] * N\n",
    "        \n",
    "    def root(self, x):\n",
    "        if self.par[x] == x:\n",
    "            return x\n",
    "        else:\n",
    "            return self.root(self.par[x])\n",
    "    \n",
    "    def same(self, x, y):\n",
    "        if self.root(x) == self.root(y):\n",
    "            return True\n",
    "        else:\n",
    "            return False\n",
    "    \n",
    "    def unite(self, x, y):\n",
    "        x = self.root(x)\n",
    "        y = self.root(y)\n",
    "        if (x==y): return\n",
    "        if (self.rank[x] < self.rank[y]):\n",
    "            self.par[x] = y\n",
    "            self.rank[y] += self.rank[x] + 1\n",
    "        else:\n",
    "            self.par[y] = x\n",
    "            self.rank[x] += self.rank[y] + 1\n",
    "\n",
    "N, M = map(int, input().split())\n",
    "UF = Union_Find(N)\n",
    "for _ in range(M):\n",
    "    a, b = map(int, input().split())\n",
    "    a -= 1\n",
    "    b -= 1\n",
    "    UF.unite(a, b)\n",
    "ans = -1\n",
    "for n in range(N):\n",
    "        ans = max(ans, UF.rank[n])\n",
    "print(ans+1)"
   ]
  }
 ],
 "metadata": {
  "kernelspec": {
   "display_name": "Python 3",
   "language": "python",
   "name": "python3"
  },
  "language_info": {
   "codemirror_mode": {
    "name": "ipython",
    "version": 3
   },
   "file_extension": ".py",
   "mimetype": "text/x-python",
   "name": "python",
   "nbconvert_exporter": "python",
   "pygments_lexer": "ipython3",
   "version": "3.6.7"
  }
 },
 "nbformat": 4,
 "nbformat_minor": 2
}
